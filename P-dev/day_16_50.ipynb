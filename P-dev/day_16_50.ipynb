{
 "cells": [
  {
   "cell_type": "markdown",
   "id": "321ab73a",
   "metadata": {},
   "source": [
    "# MATCH CASE"
   ]
  },
  {
   "cell_type": "code",
   "execution_count": 1,
   "id": "d5659840",
   "metadata": {},
   "outputs": [
    {
     "name": "stdout",
     "output_type": "stream",
     "text": [
      "Less please\n"
     ]
    }
   ],
   "source": [
    "x=5\n",
    "match x:\n",
    "    case 5: print(\"Less please\")\n",
    "    case 2: print(\"More please\")\n",
    "    case _: print(\"OMK\")"
   ]
  },
  {
   "cell_type": "code",
   "execution_count": null,
   "id": "5f67de18",
   "metadata": {},
   "outputs": [
    {
     "name": "stdout",
     "output_type": "stream",
     "text": [
      "OMK 5\n"
     ]
    }
   ],
   "source": [
    "x=5\n",
    "match x:\n",
    "    case 4: print(\"Less please\")\n",
    "    case 2: print(\"More please\")\n",
    "    case _ if x!=5: print(\"OMK\")\n",
    "    case _ if x==5: print(\"OMK 5\") # Multiple match cases with conditions"
   ]
  },
  {
   "cell_type": "markdown",
   "id": "5c45d99e",
   "metadata": {},
   "source": [
    "# While with else"
   ]
  },
  {
   "cell_type": "code",
   "execution_count": 12,
   "id": "f0e1166a",
   "metadata": {},
   "outputs": [
    {
     "name": "stdout",
     "output_type": "stream",
     "text": [
      "Still remaining\n",
      "Still remaining\n",
      "Still remaining\n",
      "Finally done.\n",
      "Out of all loops\n"
     ]
    }
   ],
   "source": [
    "i=3\n",
    "while i>0:\n",
    "    print(\"Still remaining\")\n",
    "    i-=1\n",
    "else:\n",
    "    print(\"Finally done.\")\n",
    "\n",
    "print(\"Out of all loops\")"
   ]
  },
  {
   "cell_type": "markdown",
   "id": "ca8ca645",
   "metadata": {},
   "source": [
    "# *args and **kwargs"
   ]
  },
  {
   "cell_type": "code",
   "execution_count": null,
   "id": "15fdac45",
   "metadata": {},
   "outputs": [
    {
     "data": {
      "text/plain": [
       "(3000.0, 0.3)"
      ]
     },
     "execution_count": 7,
     "metadata": {},
     "output_type": "execute_result"
    }
   ],
   "source": [
    "def func(*args, **kwargs):\n",
    "    total = sum(args)\n",
    "    epsilon = 0.001 if kwargs.get(\"epsilon\",0)<=0 else kwargs[\"epsilon\"]\n",
    "    return total/epsilon\n",
    "\n",
    "func(1,2),func(1,2, epsilon=10)"
   ]
  },
  {
   "cell_type": "code",
   "execution_count": 11,
   "id": "aba69523",
   "metadata": {},
   "outputs": [
    {
     "name": "stdout",
     "output_type": "stream",
     "text": [
      "name: Alice\n",
      "age: 25\n",
      "country: Wonderland\n"
     ]
    }
   ],
   "source": [
    "def show_info(**kwargs):\n",
    "    for key, value in kwargs.items():\n",
    "        print(f\"{key}: {value}\")\n",
    "\n",
    "show_info(name=\"Alice\", age=25, country=\"Wonderland\")"
   ]
  },
  {
   "cell_type": "code",
   "execution_count": null,
   "id": "26f28689",
   "metadata": {},
   "outputs": [
    {
     "name": "stdout",
     "output_type": "stream",
     "text": [
      "age: 25\n",
      "country: Wonderland\n"
     ]
    }
   ],
   "source": [
    "def show_info(name, **kwargs): # meaning **kwargs collects only \"additional\" keyword arguements which are not explictly mentioned in the function definition\n",
    "    for key, value in kwargs.items():\n",
    "        print(f\"{key}: {value}\")\n",
    "\n",
    "show_info(name=\"Alice\", age=25, country=\"Wonderland\")"
   ]
  },
  {
   "cell_type": "markdown",
   "id": "b84c8c4a",
   "metadata": {},
   "source": [
    "# Changing a tuple"
   ]
  },
  {
   "cell_type": "code",
   "execution_count": 3,
   "id": "2b3b055b",
   "metadata": {},
   "outputs": [
    {
     "name": "stdout",
     "output_type": "stream",
     "text": [
      "(11, 33, 44, 55)\n"
     ]
    }
   ],
   "source": [
    "tup = (11,22,33,44)\n",
    "temp = list(tup)\n",
    "temp.append(55)\n",
    "temp.pop(1)\n",
    "tup = tuple(temp)\n",
    "print(tup)"
   ]
  },
  {
   "cell_type": "code",
   "execution_count": 4,
   "id": "497a0130",
   "metadata": {},
   "outputs": [
    {
     "data": {
      "text/plain": [
       "2"
      ]
     },
     "execution_count": 4,
     "metadata": {},
     "output_type": "execute_result"
    }
   ],
   "source": [
    "tup.index(44)"
   ]
  },
  {
   "cell_type": "markdown",
   "id": "1f98fe4b",
   "metadata": {},
   "source": [
    "# String formatting"
   ]
  },
  {
   "cell_type": "code",
   "execution_count": 6,
   "id": "e8a5f7d4",
   "metadata": {},
   "outputs": [
    {
     "data": {
      "text/plain": [
       "'Hello, my name is Shubham and age is 29'"
      ]
     },
     "execution_count": 6,
     "metadata": {},
     "output_type": "execute_result"
    }
   ],
   "source": [
    "sent = \"Hello, my name is {} and age is {}\"\n",
    "sent.format(\"Shubham\", 29)"
   ]
  },
  {
   "cell_type": "code",
   "execution_count": 7,
   "id": "30dc710c",
   "metadata": {},
   "outputs": [
    {
     "data": {
      "text/plain": [
       "'Hello, my name is Shubham and age is 29'"
      ]
     },
     "execution_count": 7,
     "metadata": {},
     "output_type": "execute_result"
    }
   ],
   "source": [
    "sent = \"Hello, my name is {0} and age is {1}\"\n",
    "sent.format(\"Shubham\", 29)"
   ]
  },
  {
   "cell_type": "code",
   "execution_count": 8,
   "id": "496a1001",
   "metadata": {},
   "outputs": [
    {
     "data": {
      "text/plain": [
       "'Hello, my name is 29 and age is Shubham'"
      ]
     },
     "execution_count": 8,
     "metadata": {},
     "output_type": "execute_result"
    }
   ],
   "source": [
    "sent = \"Hello, my name is {1} and age is {0}\"\n",
    "sent.format(\"Shubham\", 29)"
   ]
  },
  {
   "cell_type": "code",
   "execution_count": 9,
   "id": "c1511d8d",
   "metadata": {},
   "outputs": [
    {
     "data": {
      "text/plain": [
       "'Hello, my name is Shubham and age is 29'"
      ]
     },
     "execution_count": 9,
     "metadata": {},
     "output_type": "execute_result"
    }
   ],
   "source": [
    "name, age = \"Shubham\", 29\n",
    "sent = f\"Hello, my name is {name} and age is {age}\"\n",
    "sent"
   ]
  },
  {
   "cell_type": "code",
   "execution_count": 10,
   "id": "22d7f9fb",
   "metadata": {},
   "outputs": [
    {
     "data": {
      "text/plain": [
       "'Hello, my name is Shubham and age is  29.00'"
      ]
     },
     "execution_count": 10,
     "metadata": {},
     "output_type": "execute_result"
    }
   ],
   "source": [
    "name, age = \"Shubham\", 29\n",
    "sent = f\"Hello, my name is {name} and age is {age: .2f}\"\n",
    "sent"
   ]
  },
  {
   "cell_type": "markdown",
   "id": "19172bb4",
   "metadata": {},
   "source": [
    "# Docstrings in python"
   ]
  },
  {
   "cell_type": "code",
   "execution_count": 12,
   "id": "2b1ac7c4",
   "metadata": {},
   "outputs": [
    {
     "name": "stdout",
     "output_type": "stream",
     "text": [
      "\n",
      "    Add two numbers and return the result.\n",
      "\n",
      "    Parameters:\n",
      "    a (int or float): First number\n",
      "    b (int or float): Second number\n",
      "\n",
      "    Returns:\n",
      "    int or float: The sum of a and b\n",
      "    \n"
     ]
    }
   ],
   "source": [
    "def add(a, b):\n",
    "    \"\"\"\n",
    "    Add two numbers and return the result.\n",
    "\n",
    "    Parameters:\n",
    "    a (int or float): First number\n",
    "    b (int or float): Second number\n",
    "\n",
    "    Returns:\n",
    "    int or float: The sum of a and b\n",
    "    \"\"\"\n",
    "    return a + b\n",
    "\n",
    "# Accessing the docstring\n",
    "print(add.__doc__)"
   ]
  },
  {
   "cell_type": "code",
   "execution_count": null,
   "id": "7dcb68f2",
   "metadata": {},
   "outputs": [],
   "source": [
    "def add(a, b):\n",
    "    print(a + b)\n",
    "    \"\"\"\n",
    "    This is NOT a docstring\n",
    "    \"\"\"\n",
    "\n",
    "# Accessing the docstring\n",
    "print(add.__doc__)"
   ]
  },
  {
   "cell_type": "markdown",
   "id": "20d154b4",
   "metadata": {},
   "source": [
    "# PEP 8"
   ]
  },
  {
   "cell_type": "markdown",
   "id": "e195c317",
   "metadata": {},
   "source": [
    "**PEP 8** is the **Python Enhancement Proposal** that provides **style guidelines** for writing clean, readable Python code. It's basically the official **style guide** for Python code, and it's all about consistency.\n",
    "\n",
    "### Key Points of PEP 8:\n",
    "- **Indentation**: Use 4 spaces per indentation level.\n",
    "- **Line Length**: Limit lines to 79 characters.\n",
    "- **Blank Lines**: Use blank lines to separate functions and classes.\n",
    "- **Imports**: Should usually be on separate lines and grouped as:\n",
    "  1. Standard library imports\n",
    "  2. Related third-party imports\n",
    "  3. Local application imports\n",
    "- **Naming Conventions**:\n",
    "  - Functions, variables: `lower_case_with_underscores`\n",
    "  - Classes: `CapWords`\n",
    "  - Constants: `ALL_CAPS`\n",
    "- **Spaces**:\n",
    "  - Around operators: `a = b + c`\n",
    "  - After commas, but not before: `func(a, b)`\n",
    "  - No space inside brackets: `list[1]`, not `list[ 1 ]`\n",
    "- **Comments**: Should be complete sentences and update with code changes.\n",
    "- **Docstrings**: Use triple quotes `\"\"\"` for module, class, and function documentation.\n",
    "\n",
    "### Why it matters:\n",
    "PEP 8 helps teams write Python code that’s easy to read and maintain — even months or years later.\n",
    "\n",
    "Want a quick code snippet that violates PEP 8 and then a corrected version?"
   ]
  },
  {
   "cell_type": "markdown",
   "id": "3069d922",
   "metadata": {},
   "source": [
    "# Zen of python"
   ]
  },
  {
   "cell_type": "code",
   "execution_count": 13,
   "id": "61b05ccd",
   "metadata": {},
   "outputs": [
    {
     "name": "stdout",
     "output_type": "stream",
     "text": [
      "The Zen of Python, by Tim Peters\n",
      "\n",
      "Beautiful is better than ugly.\n",
      "Explicit is better than implicit.\n",
      "Simple is better than complex.\n",
      "Complex is better than complicated.\n",
      "Flat is better than nested.\n",
      "Sparse is better than dense.\n",
      "Readability counts.\n",
      "Special cases aren't special enough to break the rules.\n",
      "Although practicality beats purity.\n",
      "Errors should never pass silently.\n",
      "Unless explicitly silenced.\n",
      "In the face of ambiguity, refuse the temptation to guess.\n",
      "There should be one-- and preferably only one --obvious way to do it.\n",
      "Although that way may not be obvious at first unless you're Dutch.\n",
      "Now is better than never.\n",
      "Although never is often better than *right* now.\n",
      "If the implementation is hard to explain, it's a bad idea.\n",
      "If the implementation is easy to explain, it may be a good idea.\n",
      "Namespaces are one honking great idea -- let's do more of those!\n"
     ]
    }
   ],
   "source": [
    "import this"
   ]
  },
  {
   "cell_type": "markdown",
   "id": "a365644f",
   "metadata": {},
   "source": [
    "# Recursive function"
   ]
  },
  {
   "cell_type": "code",
   "execution_count": 33,
   "id": "b58c3806",
   "metadata": {},
   "outputs": [],
   "source": [
    "def fib(n):\n",
    "    global memo\n",
    "    match n:\n",
    "        case 0: memo[0]\n",
    "        case 1: memo[1]\n",
    "        case _: \n",
    "            if n-1 in memo:\n",
    "                return memo[n-1]+memo[n-2]\n",
    "            else:\n",
    "                memo[n-1] = fib(n-1)\n",
    "                return memo[n-1]+memo[n-2]"
   ]
  },
  {
   "cell_type": "code",
   "execution_count": null,
   "id": "22ea46f8",
   "metadata": {},
   "outputs": [
    {
     "data": {
      "text/plain": [
       "23416728348467685"
      ]
     },
     "execution_count": 46,
     "metadata": {},
     "output_type": "execute_result"
    }
   ],
   "source": [
    "memo = {0:0, 1:1}\n",
    "fib(80) # It could take hours if we try to do it using traditional recursion"
   ]
  },
  {
   "cell_type": "markdown",
   "id": "f85b64f2",
   "metadata": {},
   "source": [
    "# TRY-EXCEPT-FINALLY"
   ]
  },
  {
   "cell_type": "code",
   "execution_count": null,
   "id": "0d590ed2",
   "metadata": {},
   "outputs": [
    {
     "name": "stdout",
     "output_type": "stream",
     "text": [
      "Some error\n"
     ]
    },
    {
     "data": {
      "text/plain": [
       "0"
      ]
     },
     "execution_count": 52,
     "metadata": {},
     "output_type": "execute_result"
    }
   ],
   "source": [
    "# Without finally\n",
    "def func(index):\n",
    "    L = [0,1,2,3]\n",
    "    try:\n",
    "        print(L[index])\n",
    "        return 1\n",
    "    except:\n",
    "        print(\"Some error\")\n",
    "        return 0\n",
    "    print(\"Now returning\") # This is never executed without finally\n",
    "\n",
    "index = int(input(\"Enter a number between [0,4]\\n\"))\n",
    "func(index)"
   ]
  },
  {
   "cell_type": "code",
   "execution_count": null,
   "id": "7f66462e",
   "metadata": {},
   "outputs": [
    {
     "name": "stdout",
     "output_type": "stream",
     "text": [
      "2\n",
      "Now returning\n"
     ]
    },
    {
     "data": {
      "text/plain": [
       "1"
      ]
     },
     "execution_count": 53,
     "metadata": {},
     "output_type": "execute_result"
    }
   ],
   "source": [
    "# With finally\n",
    "def func(index):\n",
    "    L = [0,1,2,3]\n",
    "    try:\n",
    "        print(L[index])\n",
    "        return 1\n",
    "    except:\n",
    "        print(\"Some error\")\n",
    "        return 0\n",
    "    finally:\n",
    "        print(\"Now returning\") # This is always executed with finally, even after the return statement\n",
    "\n",
    "index = int(input(\"Enter a number between [0,4]\\n\"))\n",
    "func(index)"
   ]
  },
  {
   "cell_type": "markdown",
   "id": "28ae34fe",
   "metadata": {},
   "source": [
    "The code in a `finally` block could technically just be written after the `try-except` structure — **but** there's an important difference:\n",
    "\n",
    "The `finally` block **guarantees execution** no matter what happens in the `try` or `except` blocks — **even if there's an error**, a `return`, or a `break`. That’s something we don’t get by just writing code after the `try-except`.\n",
    "\n",
    "### ✅ Use cases for `finally`:\n",
    "- Releasing **resources** (like closing a file or a database connection)\n",
    "- Cleaning up after operations (like deleting temp files)\n",
    "- Ensuring a piece of code always runs, even if something breaks or returns early"
   ]
  },
  {
   "cell_type": "markdown",
   "id": "3ebc5bcf",
   "metadata": {},
   "source": [
    "# Raising errors manually and raising custom errors in Python"
   ]
  },
  {
   "cell_type": "markdown",
   "id": "6aaffaa3",
   "metadata": {},
   "source": [
    "The `raise` keyword in Python is used to **manually trigger exceptions** — either to:\n",
    "\n",
    "1. **Stop execution** when something goes wrong,\n",
    "2. **Create custom error messages**, or\n",
    "3. **Re-raise exceptions** when handling errors."
   ]
  },
  {
   "cell_type": "code",
   "execution_count": 56,
   "id": "a2b88c77",
   "metadata": {},
   "outputs": [],
   "source": [
    "def divide(a, b):\n",
    "    if b == 0:\n",
    "        raise ValueError(\"Cannot divide by zero!\") # Raise an exception when input is invalid\n",
    "    return a / b\n",
    "\n",
    "# divide(10, 0)  # This will raise: ValueError: Cannot divide by zero!"
   ]
  },
  {
   "cell_type": "code",
   "execution_count": 57,
   "id": "879ba02a",
   "metadata": {},
   "outputs": [],
   "source": [
    "def set_age(age):\n",
    "    if age < 0:\n",
    "        raise ValueError(\"Age cannot be negative.\") # Raising exceptions in custom validations; enforces rules and keeps data clean.\n",
    "    print(f\"Age set to {age}\")\n",
    "\n",
    "# set_age(-5)  # Raises ValueError: Age cannot be negative."
   ]
  },
  {
   "cell_type": "code",
   "execution_count": 58,
   "id": "c9cc2f9d",
   "metadata": {},
   "outputs": [],
   "source": [
    "class OutOfRangeError(Exception):\n",
    "    pass\n",
    "\n",
    "def check_score(score):\n",
    "    if score > 100:\n",
    "        raise OutOfRangeError(\"Score cannot exceed 100.\")\n",
    "\n",
    "# check_score(120)  # Raises OutOfRangeError; can create specific error types that make debugging and error handling clearer."
   ]
  },
  {
   "cell_type": "code",
   "execution_count": null,
   "id": "1a821d42",
   "metadata": {},
   "outputs": [],
   "source": [
    "def process_file():\n",
    "    try:\n",
    "        with open(\"file.txt\") as f:\n",
    "            return f.read()\n",
    "    except FileNotFoundError as e:\n",
    "        print(\"Log: File not found!\")\n",
    "        raise  # Re-raise the original error; You log or perform some handling, but still allow the exception to bubble up if needed."
   ]
  },
  {
   "cell_type": "markdown",
   "id": "e4e2ec8f",
   "metadata": {},
   "source": [
    "# if-else in one line"
   ]
  },
  {
   "cell_type": "code",
   "execution_count": 60,
   "id": "a899f5eb",
   "metadata": {},
   "outputs": [
    {
     "name": "stdout",
     "output_type": "stream",
     "text": [
      "A\n"
     ]
    }
   ],
   "source": [
    "a = 7\n",
    "b = 5\n",
    "print(\"A\") if a>b else print(\"B\") if b>a else print(\"EQUAL\")"
   ]
  },
  {
   "cell_type": "code",
   "execution_count": 61,
   "id": "fe1af757",
   "metadata": {},
   "outputs": [
    {
     "name": "stdout",
     "output_type": "stream",
     "text": [
      "EQUAL\n"
     ]
    }
   ],
   "source": [
    "a = 7\n",
    "b = 7\n",
    "print(\"A\") if a>b else print(\"B\") if b>a else print(\"EQUAL\")"
   ]
  },
  {
   "cell_type": "code",
   "execution_count": 62,
   "id": "da423c6a",
   "metadata": {},
   "outputs": [
    {
     "name": "stdout",
     "output_type": "stream",
     "text": [
      "10\n"
     ]
    }
   ],
   "source": [
    "c = 9 if a>b else 10\n",
    "print(c)"
   ]
  },
  {
   "cell_type": "markdown",
   "id": "d1829ef0",
   "metadata": {},
   "source": [
    "# Local and Global variables"
   ]
  },
  {
   "cell_type": "code",
   "execution_count": null,
   "id": "c0d1f2fc",
   "metadata": {},
   "outputs": [
    {
     "name": "stdout",
     "output_type": "stream",
     "text": [
      "5\n",
      "10\n",
      "{0: 1, 1: 2, 2: 3}\n"
     ]
    }
   ],
   "source": [
    "x=5\n",
    "D = {0:1, 1:2}\n",
    "def fun():\n",
    "    global x # For normal variables, we have to explicitly define them as global\n",
    "    D[2]=3 # This changes global dict as well, no need for explicit mention\n",
    "    x=10\n",
    "\n",
    "print(x)\n",
    "fun()\n",
    "print(x)\n",
    "print(D)"
   ]
  },
  {
   "cell_type": "code",
   "execution_count": null,
   "id": "dd7c81b5",
   "metadata": {},
   "outputs": [],
   "source": []
  },
  {
   "cell_type": "code",
   "execution_count": null,
   "id": "ea862285",
   "metadata": {},
   "outputs": [],
   "source": []
  },
  {
   "cell_type": "code",
   "execution_count": null,
   "id": "7a9c6592",
   "metadata": {},
   "outputs": [],
   "source": []
  },
  {
   "cell_type": "code",
   "execution_count": null,
   "id": "78b93152",
   "metadata": {},
   "outputs": [],
   "source": []
  },
  {
   "cell_type": "code",
   "execution_count": null,
   "id": "1698072e",
   "metadata": {},
   "outputs": [],
   "source": []
  },
  {
   "cell_type": "code",
   "execution_count": null,
   "id": "ff65533a",
   "metadata": {},
   "outputs": [],
   "source": []
  },
  {
   "cell_type": "code",
   "execution_count": null,
   "id": "a757c79e",
   "metadata": {},
   "outputs": [],
   "source": []
  },
  {
   "cell_type": "code",
   "execution_count": null,
   "id": "ce29fa46",
   "metadata": {},
   "outputs": [],
   "source": []
  },
  {
   "cell_type": "code",
   "execution_count": null,
   "id": "0f041b0a",
   "metadata": {},
   "outputs": [],
   "source": []
  },
  {
   "cell_type": "code",
   "execution_count": null,
   "id": "aae6d3ec",
   "metadata": {},
   "outputs": [],
   "source": []
  }
 ],
 "metadata": {
  "kernelspec": {
   "display_name": "Python 3",
   "language": "python",
   "name": "python3"
  },
  "language_info": {
   "codemirror_mode": {
    "name": "ipython",
    "version": 3
   },
   "file_extension": ".py",
   "mimetype": "text/x-python",
   "name": "python",
   "nbconvert_exporter": "python",
   "pygments_lexer": "ipython3",
   "version": "3.11.9"
  }
 },
 "nbformat": 4,
 "nbformat_minor": 5
}
